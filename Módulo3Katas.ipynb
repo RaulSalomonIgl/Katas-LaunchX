{
 "cells": [
  {
   "cell_type": "markdown",
   "metadata": {},
   "source": [
    "Para este ejercicio, escribirás una lógica condicional que imprima una advertencia si un asteroide se acerca a la Tierra demasiado rápido. La velocidad del asteroide varía dependiendo de lo cerca que esté del sol, y cualquier velocidad superior a 25 kilómetros por segundo (km/s) merece una advertencia.\n",
    "\n",
    "Un asteroide se acerca, y viaja a una velocidad de 49 km/s."
   ]
  },
  {
   "cell_type": "code",
   "execution_count": 17,
   "metadata": {},
   "outputs": [
    {
     "name": "stdout",
     "output_type": "stream",
     "text": [
      "ADVERTENCIA: Un asteroide se acerca a la Tierra demasiado rápido\n"
     ]
    }
   ],
   "source": [
    "#Añadir el código necesario para crear una variable que guarde la velocidad del asteroide.\n",
    "velocidad_asteroide = 49\n",
    "#Escribe una expresión de prueba para calcular si necesita una advertencia.\n",
    "if velocidad_asteroide > 25:\n",
    "#Agregue las instrucciones que se ejecutarán si la expresión de prueba es true o false.\n",
    "    print(\"ADVERTENCIA: Un asteroide se acerca a la Tierra demasiado rápido\")\n",
    "else:\n",
    "    print(\"El asteroide no representa un peligro para la Tierra\")"
   ]
  },
  {
   "cell_type": "markdown",
   "metadata": {},
   "source": [
    "Si un asteroide entra en la atmósfera de la Tierra a una velocidad mayor o igual a 20 km/s, a veces produce un rayo de luz que se puede ver desde la Tierra. Escribe la lógica condicional que usa declaraciones if, else, y elif para alertar a las personas de todo el mundo que deben buscar un asteroide en el cielo. ¡Hay uno que se dirige a la tierra ahora a una velocidad de 19 km/s!"
   ]
  },
  {
   "cell_type": "code",
   "execution_count": 18,
   "metadata": {},
   "outputs": [
    {
     "name": "stdout",
     "output_type": "stream",
     "text": [
      "Un asteroide ha entrato a la atmosfera de la Tierra pero no se puede observar por su baja velocidad\n"
     ]
    }
   ],
   "source": [
    "#Agrega el código para crear una variable para un asteroide que viaja a 19 km/s\n",
    "velocidad_asteroide = 19\n",
    "#Escribe varias expresiones de prueba para determinar si puedes ver el rayo de luz desde la tierra\n",
    "if(velocidad_asteroide == 20):\n",
    "#Agrega las instrucciones que se ejecutarán si las expresiones de prueba son True o False\n",
    "    print(\"Un asteroide ha entrato a la atmosfera de la Tierra y existe la posibilidad de ver un rayo de luz en el cielo\")\n",
    "elif(velocidad_asteroide > 20):\n",
    "    print(\"Un asteroide ha entrato a la atmosfera de la Tierra y existe la posibilidad de ver un rayo de luz en el cielo\")\n",
    "else:\n",
    "    print(\"Un asteroide ha entrato a la atmosfera de la Tierra pero no se puede observar por su baja velocidad\")"
   ]
  },
  {
   "cell_type": "markdown",
   "metadata": {},
   "source": [
    "* Los asteroides de menos de 25 metros en su dimensión más grande probablemente se quemarán a medida que entren en la atmósfera de la Tierra.\n",
    "\n",
    "* Si una pieza de un asteroide que es más grande que 25 metros pero más pequeña que 1000 metros golpeara la Tierra, causaría mucho daño.\n",
    "\n",
    "También discutimos en el ejercicio anterior que:\n",
    "\n",
    "* La velocidad del asteroide varía en función de lo cerca que esté del sol, y cualquier velocidad superior a 25 kilómetros por segundo (km/s) merece una advertencia.\n",
    "\n",
    "* Si un asteroide entra en la atmósfera de la Tierra a una velocidad mayor o igual a 20 km/s, a veces produce un rayo de luz que se puede ver desde la Tierra.\n",
    "\n",
    "Usando toda esta información, escribe un programa que emita la advertencia o información correcta a la gente de la Tierra, según la velocidad y el tamaño de un asteroide. Utiliza instrucciones if, else, y elif, así como los operadores and y or."
   ]
  },
  {
   "cell_type": "code",
   "execution_count": 19,
   "metadata": {},
   "outputs": [
    {
     "name": "stdout",
     "output_type": "stream",
     "text": [
      "Un asteroide ha entrato a la atmosfera de la Tierra pero no se puede observar por su baja velocidad\n",
      "El asteroide probablemente se quemarán a medida que entre en la atmósfera de la Tierra.\n"
     ]
    }
   ],
   "source": [
    "# Agrega el código para crear nuevas variables para la velocidad y el tamaño del asteroide\n",
    "velocidad_asteroide = float(input(\"Ingresa la velocidad(Km/s) del asteroide: \"))\n",
    "tamanio_asteroide = float(input(\"Ingresa la dimension(m) del asteroide: \"))\n",
    "# Para probar el código, prueba con varias velocidades y tamaños\n",
    "# Escribe varias expresiones de prueba o combinaciones de expresiones de prueba para determinar qué mensaje se debe enviar a Tierra.\n",
    "if velocidad_asteroide >= 20 and velocidad_asteroide <= 25:\n",
    "    print(\"Un asteroide ha entrato a la atmosfera de la Tierra y existe la posibilidad de ver un rayo de luz en el cielo\")\n",
    "    \n",
    "    if(tamanio_asteroide > 25 and tamanio_asteroide < 1000):\n",
    "        print(\"ADVERTENCIA: Si el asteroide golpea la Tierra, causara mucho daño\")\n",
    "    elif tamanio_asteroide < 25:\n",
    "        print(\"El asteroide probablemente se quemarán a medida que entre en la atmósfera de la Tierra.\")\n",
    "    else:\n",
    "        print(\"El asteroide probablemente se quemarán a medida que entre en la atmósfera de la Tierra.\")\n",
    "        print(\"Si el asteroide golpea la Tierra, causara mucho daño\")\n",
    "\n",
    "elif velocidad_asteroide > 25:\n",
    "    print(\"ADVERTENCIA: Un asteroide se acerca a la Tierra demasiado rápido\")\n",
    "    \n",
    "    if(tamanio_asteroide > 25 and tamanio_asteroide < 1000):\n",
    "        print(\"ADVERTENCIA: Si el asteroide golpea la Tierra, causara mucho daño\")\n",
    "    elif tamanio_asteroide < 25:\n",
    "        print(\"El asteroide probablemente se quemarán a medida que entre en la atmósfera de la Tierra.\")\n",
    "    else:\n",
    "        print(\"El asteroide probablemente se quemarán a medida que entre en la atmósfera de la Tierra.\")\n",
    "        print(\"Si el asteroide golpea la Tierra, causara mucho daño\")\n",
    "\n",
    "else:\n",
    "    print(\"Un asteroide ha entrato a la atmosfera de la Tierra pero no se puede observar por su baja velocidad\")\n",
    "    \n",
    "    if(tamanio_asteroide > 25 and tamanio_asteroide < 1000):\n",
    "        print(\"ADVERTENCIA: Si el asteroide golpea la Tierra, causara mucho daño\")\n",
    "    elif tamanio_asteroide < 25:\n",
    "        print(\"El asteroide probablemente se quemarán a medida que entre en la atmósfera de la Tierra.\")\n",
    "    else:\n",
    "        print(\"El asteroide probablemente se quemarán a medida que entre en la atmósfera de la Tierra.\")\n",
    "        print(\"Si el asteroide golpea la Tierra, causara mucho daño\")"
   ]
  }
 ],
 "metadata": {
  "interpreter": {
   "hash": "c90e8b21523581d78a9270fdff9196cc37010bd909b4d069e277a30f2d367b3d"
  },
  "kernelspec": {
   "display_name": "Python 3.8.3 ('base')",
   "language": "python",
   "name": "python3"
  },
  "language_info": {
   "codemirror_mode": {
    "name": "ipython",
    "version": 3
   },
   "file_extension": ".py",
   "mimetype": "text/x-python",
   "name": "python",
   "nbconvert_exporter": "python",
   "pygments_lexer": "ipython3",
   "version": "3.8.3"
  },
  "orig_nbformat": 4
 },
 "nbformat": 4,
 "nbformat_minor": 2
}
