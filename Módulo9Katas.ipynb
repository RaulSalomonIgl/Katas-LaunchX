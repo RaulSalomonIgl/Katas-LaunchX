{
 "cells": [
  {
   "cell_type": "markdown",
   "metadata": {},
   "source": [
    "Ejercicio: Uso de funciones en Python\n",
    "## Ejercicio 1: Trabajar con argumentos en funciones\n",
    "Los argumentos requeridos en las funciones se utilizan cuando las funciones necesitan que esos argumentos funcionen correctamente. En este ejercicio, construirás un informe de combustible que requiere información de varias ubicaciones de combustible en todo el cohete.\n",
    "\n",
    "Comienza por crear una función que necesite tres lecturas de combustible y devuelva un informe:"
   ]
  },
  {
   "cell_type": "code",
   "execution_count": 4,
   "metadata": {},
   "outputs": [],
   "source": [
    "# Función para leer 3 tanques de combustible y muestre el promedio\n",
    "\n",
    "def inf_fuel(tanque1, tanque2, tanque3):\n",
    "    sum = tanque1 + tanque2 + tanque3\n",
    "\n",
    "    print(f\"\"\"Fuel Report:\n",
    "    Total Average: {sum / 3}\n",
    "    Main tank: {tanque1}\n",
    "    External tank: {tanque2}\n",
    "    Reserve tank: {tanque3} \"\"\")"
   ]
  },
  {
   "cell_type": "markdown",
   "metadata": {},
   "source": [
    "Ahora que hemos definido la función de informes, vamos a comprobarlo. Para esta misión, los tanques no están llenos:"
   ]
  },
  {
   "cell_type": "code",
   "execution_count": 5,
   "metadata": {},
   "outputs": [
    {
     "name": "stdout",
     "output_type": "stream",
     "text": [
      "Fuel Report:\n",
      "    Total Average: 140.0\n",
      "    Main tank: 150\n",
      "    External tank: 50\n",
      "    Reserve tank: 220 \n"
     ]
    }
   ],
   "source": [
    "# Llamamos a la función que genera el reporte print(funcion(tanque1, tanque2, tanque3))\n",
    "inf_fuel(150,50,220)"
   ]
  },
  {
   "cell_type": "markdown",
   "metadata": {},
   "source": [
    "En lugar de simplemente crear el informe, la función también está calculando el promedio. Mejora la legibilidad extrayendo el cálculo promedio de la función en una nueva función para que el promedio se pueda hacer de forma independiente:"
   ]
  },
  {
   "cell_type": "code",
   "execution_count": 8,
   "metadata": {},
   "outputs": [],
   "source": [
    "# Función promedio\n",
    "def average(lst_tanks):\n",
    "    total = sum(lst_tanks)\n",
    "    average = total / len(lst_tanks)\n",
    "    return average"
   ]
  },
  {
   "cell_type": "markdown",
   "metadata": {},
   "source": [
    "Ahora actualiza la función de informes para llamando a la nueva función del promedio:"
   ]
  },
  {
   "cell_type": "code",
   "execution_count": 10,
   "metadata": {},
   "outputs": [
    {
     "name": "stdout",
     "output_type": "stream",
     "text": [
      "Fuel Report:\n",
      "    Total Average: 140.0\n",
      "    Main tank: 150\n",
      "    External tank: 50\n",
      "    Reserve tank: 220 \n"
     ]
    }
   ],
   "source": [
    "# Actualiza la función\n",
    "def inf_fuel(tanque1, tanque2, tanque3):\n",
    "    print(f\"\"\"Fuel Report:\n",
    "    Total Average: {average([tanque1,tanque2,tanque3])}\n",
    "    Main tank: {tanque1}\n",
    "    External tank: {tanque2}\n",
    "    Reserve tank: {tanque3} \"\"\")\n",
    "\n",
    "inf_fuel(150,50,220)"
   ]
  },
  {
   "cell_type": "markdown",
   "metadata": {},
   "source": [
    "## Ejercicio 2: Trabajo con argumentos de palabra clave\n",
    "Ejercicio : Trabajar con argumentos de palabras clave en funciones\n",
    "En este ejercicio, construirás un informe de cohete que requiere varias piezas de información, como el tiempo hasta el destino, el combustible a la izquierda y el nombre del destino. Comienza por crear una función que creará un informe preciso de la misión:"
   ]
  },
  {
   "cell_type": "code",
   "execution_count": 28,
   "metadata": {},
   "outputs": [
    {
     "name": "stdout",
     "output_type": "stream",
     "text": [
      "Mission report:\n",
      "    Destination: Mars\n",
      "    Fuel: 3110 gallons\n",
      "       External tank: 1109\n",
      "       Internal tank: 2001\n",
      "    Estimated travel time: 1418 minutes\n",
      "       Pre-launch time: 9 \n",
      "       Flight time: 1409\n",
      "    \n"
     ]
    }
   ],
   "source": [
    "# Función con un informe preciso de la misión. \n",
    "# Considera hora de prelanzamiento, tiempo de vuelo, destino, tanque externo y tanque interno\n",
    "def inf_mision(destination, external_tank, internal_tank, pre_launch_time, flight_time):\n",
    "    print(f\"\"\"Mission report:\n",
    "    Destination: {destination}\n",
    "    Fuel: {external_tank + internal_tank} gallons\n",
    "       External tank: {external_tank}\n",
    "       Internal tank: {internal_tank}\n",
    "    Estimated travel time: {pre_launch_time + flight_time} minutes\n",
    "       Pre-launch time: {pre_launch_time} \n",
    "       Flight time: {flight_time}\n",
    "    \"\"\")\n",
    "\n",
    "inf_mision(\"Mars\", 1109, 2001,9, 1409)"
   ]
  },
  {
   "cell_type": "markdown",
   "metadata": {},
   "source": [
    "La función es problemática porque no se puede adaptar para minutos adicionales o tanques adicionales de combustible. Hazlo más flexible permitiendo cualquier número de pasos basados en el tiempo y cualquier número de tanques. En lugar de usar *args y **kwargs, aprovecha el hecho de que puedes usar cualquier nombre que desees. Asegurate que la función sea más legible mediante el uso de nombres de variables que están asociados con las entradas, como *minutes y **fuel_reservoirs:"
   ]
  },
  {
   "cell_type": "code",
   "execution_count": 43,
   "metadata": {},
   "outputs": [
    {
     "name": "stdout",
     "output_type": "stream",
     "text": [
      "Mission report:\n",
      "    Destination: Mars\n",
      "    Fuel: 3110 gallons\n",
      "    Estimated travel time: 1428 minutes\n",
      "    \n"
     ]
    }
   ],
   "source": [
    "# Escribe tu nueva función de reporte considerando lo anterior\n",
    "def inf_mision(destination, *minutes, **fuel_reservoirs):\n",
    "    print(f\"\"\"Mission report:\n",
    "    Destination: {destination}\n",
    "    Fuel: {sum(fuel_reservoirs.values())} gallons\n",
    "    Estimated travel time: {sum(minutes)} minutes\n",
    "    \"\"\")\n",
    "\n",
    "inf_mision(\"Mars\", 10, 1409, 9, Internal = 1109, External = 2001)"
   ]
  },
  {
   "cell_type": "markdown",
   "metadata": {},
   "source": [
    "Debido a que el combustible que queda en los tanques es específico de cada tanque, actualiza la función para usar el nombre de cada tanque en el informe:"
   ]
  },
  {
   "cell_type": "code",
   "execution_count": 44,
   "metadata": {},
   "outputs": [
    {
     "name": "stdout",
     "output_type": "stream",
     "text": [
      "Mission report:\n",
      "    Destination: Mars\n",
      "    Estimated travel time: 1428 minutes\n",
      "    Fuel: 3110 gallons\n",
      "        Internal: 1109 gallons\n",
      "        External: 2001 gallons\n"
     ]
    }
   ],
   "source": [
    "# Escribe tu nueva función\n",
    "def inf_mision(destination, *minutes, **fuel_reservoirs):\n",
    "    report = f\"\"\"Mission report:\n",
    "    Destination: {destination}\n",
    "    Estimated travel time: {sum(minutes)} minutes\n",
    "    Fuel: {sum(fuel_reservoirs.values())} gallons\"\"\"\n",
    "\n",
    "    for tank,gallons in fuel_reservoirs.items():\n",
    "        report += f\"\"\"\n",
    "        {tank}: {gallons} gallons\"\"\"\n",
    "    \n",
    "    return report\n",
    "print(inf_mision(\"Mars\", 10, 1409, 9, Internal = 1109, External = 2001))"
   ]
  }
 ],
 "metadata": {
  "interpreter": {
   "hash": "c90e8b21523581d78a9270fdff9196cc37010bd909b4d069e277a30f2d367b3d"
  },
  "kernelspec": {
   "display_name": "Python 3.8.3 ('base')",
   "language": "python",
   "name": "python3"
  },
  "language_info": {
   "codemirror_mode": {
    "name": "ipython",
    "version": 3
   },
   "file_extension": ".py",
   "mimetype": "text/x-python",
   "name": "python",
   "nbconvert_exporter": "python",
   "pygments_lexer": "ipython3",
   "version": "3.8.3"
  },
  "orig_nbformat": 4
 },
 "nbformat": 4,
 "nbformat_minor": 2
}
